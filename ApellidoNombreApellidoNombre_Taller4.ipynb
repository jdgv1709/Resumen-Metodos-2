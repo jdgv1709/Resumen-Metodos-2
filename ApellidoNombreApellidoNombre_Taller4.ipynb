{
  "cells": [
    {
      "cell_type": "markdown",
      "metadata": {
        "id": "0Z8Dn_z6Mb9b"
      },
      "source": [
        "# Taller 4\n",
        "\n",
        "## Métodos Computacionales 2\n",
        "\n",
        "Instrucciones: Suba el jupyter notebook **.ipynb** en la actividad de bloque neon. El archivo debe ser nombrado ApellidoNombreApellidoNombre_Taller4.ipynb, con su primer Apellido y Nombre. **El archivo debe poder correr en el binder del curso o en google colab**\n",
        "\n",
        "Si un ejercicio demora **más de 10 segundos** en correr se considerará **incorrecto**.\n",
        "\n",
        "La simulación no debería demorar más de **60 segundos** en el github del curso o en google colab.\n",
        "\n",
        "No modifique el cuaderno, ni los modos de lectura de los archivos.\n",
        "\n",
        "**Entrega: Sábado 30 de Septiembre 11:59 pm**"
      ]
    },
    {
      "cell_type": "code",
      "execution_count": null,
      "metadata": {},
      "outputs": [],
      "source": []
    },
    {
      "cell_type": "markdown",
      "metadata": {
        "id": "VvtNBbxJ0n7a"
      },
      "source": [
        "## Librerias"
      ]
    },
    {
      "cell_type": "code",
      "execution_count": 1,
      "metadata": {
        "id": "mmgcGeXk0pPA"
      },
      "outputs": [],
      "source": [
        "import time\n",
        "import numpy as np\n",
        "\n",
        "import matplotlib.pyplot as plt\n",
        "from matplotlib import animation\n",
        "plt.style.use('dark_background')"
      ]
    },
    {
      "cell_type": "code",
      "execution_count": 2,
      "metadata": {
        "id": "0dwmjZUoDvLX"
      },
      "outputs": [],
      "source": [
        "from matplotlib import rc\n",
        "rc(\"animation\", html = \"jshtml\")"
      ]
    },
    {
      "cell_type": "markdown",
      "metadata": {
        "id": "MELZuUDHuP71"
      },
      "source": [
        "## Problema 2 (3/5) Puntos\n",
        "\n",
        "Solucionar la ecuación de onda bidimensional con extremos fijos en cero la cual se encuentra entre dos medios cuyas velocidades de propagación son $c_1$ y $c_2$ para la posición inicial $p(x,y)$,\n",
        "\n",
        "$$p(x,y) = \\frac{1}{\\sqrt{\\sigma}}e^\\left(-{\\frac{(x-0.25)^2+(y-0.5)^2}{\\sigma^2}}\\right) + \\frac{1}{\\sqrt{\\sigma}}e^\\left(-{\\frac{(x-0.75)^2+(y-0.5)^2}{\\sigma^2}}\\right)$$\n",
        "$$p(x, y) = \\frac{1}{\\sqrt{\\sigma}} e^{-\\frac{(x-0.25)^2+(y-0.5)^2}{\\sigma^2}} + \\frac{1}{\\sqrt{\\sigma}} e^{-\\frac{(x-0.75)^2+(y-0.5)^2}{\\sigma^2}}$$\n",
        "\n",
        "con $\\sigma = 0.05$, en el dominio $x \\in [0, 1]$,  $y \\in [0, 1]$ y velocidad inicial de cada nodo igual a cero para $t=0$, la frontera entre los dos medios se encuentra en la posición $x = 0.5$. Use los valores de la tabla. Realice una animación 3D, para que la simulación no demore tanto realice la simulación con solo las imagenes de cada $50*dt$. Use el siguiente [notebook](https://github.com/diegour1/MetodosComputacionales2/blob/main/Notebooks/11%20-%20ecuacion_onda_1D.ipynb) como guía.\n",
        "\n",
        "**Tabla:**\n",
        "\n",
        "|  |                                        |\n",
        "|-----------------------|----------------------------------------|\n",
        "| $$c_1$$                 |                                $$1.5$$ |\n",
        "| $$c_2$$                 |                                $$2.5$$ |\n",
        "| $$dx$$                |                               $$0.05$$ |\n",
        "| $$dy$$                |                               $$0.05$$ |\n",
        "| $$t_{total}$$           |                                  $$0.5$$ |\n",
        "| $$dt$$                | $$\\frac{1}{10c_2}\\frac{dx^2dy^2}{dx^2+dy^2}$$ |"
      ]
    },
    {
      "cell_type": "markdown",
      "metadata": {
        "id": "R3kXKLjxP4ks"
      },
      "source": [
        "En la calificación el notebook se correra en Google Colab, de cualquier forma adjunte la animación en un video de youtube público, debe obtener un video como el que se muestra,\n",
        "\n",
        "Cambie este link por su video de youtube,\n",
        "\n",
        "Espacio para el video de youtube\n",
        "\n",
        "https://www.youtube.com/watch?v=heeGCgfhheY"
      ]
    },
    {
      "cell_type": "code",
      "execution_count": 13,
      "metadata": {
        "colab": {
          "base_uri": "https://localhost:8080/"
        },
        "id": "AsF4aCkdP3x9",
        "outputId": "814bd755-fc8a-4d5f-be21-da1c88cbbb13"
      },
      "outputs": [
        {
          "name": "stdout",
          "output_type": "stream",
          "text": [
            "Tiempo usado en calcular la solución (s): 11.22339415550232\n",
            "x.shape: (21, 21) y.shape: (21, 21) U.shape: (10001, 21, 21)\n",
            "U.shape (subsampled): (401, 21, 21)\n"
          ]
        }
      ],
      "source": [
        "## Su codigo aqui\n",
        "#deltas\n",
        "dx = 0.05\n",
        "dy = 0.05\n",
        "#fronteras\n",
        "Lx = 1.0\n",
        "Ly = 1.0\n",
        "l0 = 0.0\n",
        "lL = 0.0\n",
        "t_max = 0.5\n",
        "#medios\n",
        "c1 = 1.5\n",
        "c2 = 2.5\n",
        "px = 0.5\n",
        "#P(x,y) inicial\n",
        "def pos_ini(x, y):\n",
        "    sig = 0.05\n",
        "    term1 = (1.0 / np.sqrt(sig)) * np.exp(-(((x - 0.25)**2) + ((y - 0.5)**2)) / (sig**2))\n",
        "    term2 = (1.0 / np.sqrt(sig)) * np.exp(-(((x - 0.75)**2) + ((y - 0.5)**2)) / (sig**2))\n",
        "    return term1 + term2\n",
        "#Velocidad inicial\n",
        "def vel_ini(x, y):\n",
        "    return np.zeros_like(x)\n",
        "#Solucion\n",
        "def solucion_ecuacion_onda_2D(dx, dy, t_max, Lx, Ly, c1, c2, px, l0, lL):\n",
        "    dt = (1/(10*c2)) * (((dx**2) * (dy**2))/((dx**2) + (dy**2)))\n",
        "\n",
        "    r1x = (c1 * dt) / (dx**2)\n",
        "    r2x = (c2 * dt) / (dx**2)\n",
        "    r1y = (c1 * dt) / (dy**2)\n",
        "    r2y = (c2 * dt) / (dy**2)\n",
        "\n",
        "    a1 = 1 - 2*r1x - 2*r1y\n",
        "    a2 = 1 - 2*r2x - 2*r2y\n",
        "\n",
        "    Nx = int(np.round((Lx)/dx)) + 1 \n",
        "    Ny = int(np.round((Ly)/dy)) + 1\n",
        "    lt = int(np.round(t_max / dt)) + 1 \n",
        "\n",
        "    x = np.linspace(0, Lx, Nx)\n",
        "    y = np.linspace(0, Ly, Ny)\n",
        "    t = np.linspace(0, t_max, lt)\n",
        "\n",
        "    U = np.zeros((lt, Nx, Ny))\n",
        "    X1, Y1 = np.meshgrid(x, y)\n",
        "    U[0, :, :] = pos_ini(X1, Y1)\n",
        "\n",
        "    X, Y = np.meshgrid(x, y, indexing='ij')\n",
        "    U[:, 0, :] = 0\n",
        "    U[:, -1, :] = 0\n",
        "    v0 = vel_ini(X, Y)\n",
        "\n",
        "    for j in range(1, Ny-1):\n",
        "        for i in range(1, Nx - 1):\n",
        "            if i < px * Nx:\n",
        "                U[1, i, j] = (0.5 * a1 * U[0, i, j]) + 0.5 * r1x * (U[0, i - 1, j] + U[0, i + 1, j] + U[0, i, j - 1] + U[0, i, j + 1]) + (dt * v0[i, j])\n",
        "            else:\n",
        "                U[1, i, j] = (0.5 * a2 * U[0, i, j]) + 0.5 * r2x * (U[0, i - 1, j] + U[0, i + 1, j] + U[0, i, j - 1] + U[0, i, j + 1]) + (dt * v0[i, j])\n",
        "\n",
        "    for n in range(1, lt-1):\n",
        "        for i in range(1, Nx-1):\n",
        "            for j in range(1, Ny-1):\n",
        "                if i < px * Nx:\n",
        "                    px = r1x*(U[n,i-1,j] + U[n,i+1,j])\n",
        "                    py = r1y*(U[n,i,j-1] + U[n,i,j+1])\n",
        "                    U[n+1,i,j] = (a1*U[n,i,j]) + px + py - U[n-1,i,j]\n",
        "                else:\n",
        "                    px = r2x*(U[n,i-1,j] + U[n,i+1,j])\n",
        "                    py = r2y*(U[n,i,j-1] + U[n,i,j+1])\n",
        "                    U[n+1,i,j] = (a2*U[n,i,j]) + px + py - U[n-1,i,j]\n",
        "    X, Y = np.meshgrid(x, y)\n",
        "    return X, Y, U\n",
        "start_time = time.time()\n",
        "X, Y, U = solucion_ecuacion_onda_2D(dx, dy, t_max, Lx, Ly, c1, c2, px, l0, lL)\n",
        "print(\"Tiempo usado en calcular la solución (s):\", time.time() - start_time)\n",
        "print('x.shape:', X.shape, 'y.shape:', Y.shape, 'U.shape:', U.shape)\n",
        "U = U[::25]\n",
        "print('U.shape (subsampled):', U.shape)\n"
      ]
    },
    {
      "cell_type": "code",
      "execution_count": null,
      "metadata": {
        "colab": {
          "background_save": true,
          "base_uri": "https://localhost:8080/"
        },
        "id": "Ag-Hg8Xps2Iv",
        "outputId": "64988c6e-b215-42e3-8dc1-260761ecc478"
      },
      "outputs": [],
      "source": [
        "def update(frame_num, X, Y, U, ax):\n",
        "  ax.clear()\n",
        "  ax.set_zlim([np.min(U),np.max(U)])\n",
        "  ax.view_init(elev=30, azim=-45 + frame_num * 2)\n",
        "  colors = np.where(X < 0.5, 'blue', 'red')\n",
        "  ax.plot_surface(X,Y,U[frame_num,:,:], facecolors=colors)\n",
        "\n",
        "def crear_animacion_3D(X,Y,U, name):\n",
        "  N = U.shape[0]\n",
        "  fig = plt.figure(figsize=(9,6), dpi = 75)\n",
        "  fig.subplots_adjust(left=0, right=1, bottom=0, top=1)\n",
        "  ax = fig.add_subplot(projection='3d')\n",
        "  ax.xaxis.pane.fill = False\n",
        "  ax.yaxis.pane.fill = False\n",
        "  ax.zaxis.pane.fill = False\n",
        "  ani = animation.FuncAnimation(fig, update, N, fargs=(X, Y, U, ax))\n",
        "\n",
        "  return ani\n",
        "  #ani.save('ecuacion_calor_2D.gif',fps=24)\n",
        "  \n",
        "\n",
        "start_time = time.time()\n",
        "crear_animacion_3D(X, Y, U, 'cambio_de_medio_3D.gif')\n",
        "#print(\"Tiempo usado en crear la animación (s):\", time.time() - start_time)\n"
      ]
    }
  ],
  "metadata": {
    "colab": {
      "provenance": []
    },
    "kernelspec": {
      "display_name": "Python 3",
      "name": "python3"
    },
    "language_info": {
      "codemirror_mode": {
        "name": "ipython",
        "version": 3
      },
      "file_extension": ".py",
      "mimetype": "text/x-python",
      "name": "python",
      "nbconvert_exporter": "python",
      "pygments_lexer": "ipython3",
      "version": "3.9.7"
    }
  },
  "nbformat": 4,
  "nbformat_minor": 0
}
